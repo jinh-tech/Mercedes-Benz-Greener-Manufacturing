{
 "cells": [
  {
   "cell_type": "code",
   "execution_count": 1,
   "metadata": {
    "collapsed": false
   },
   "outputs": [],
   "source": [
    "import numpy as np\n",
    "import pandas as pd\n",
    "import matplotlib.pyplot as plt\n",
    "from operator import itemgetter"
   ]
  },
  {
   "cell_type": "code",
   "execution_count": 2,
   "metadata": {
    "collapsed": true
   },
   "outputs": [],
   "source": [
    "## loading files into proper dataframes\n",
    "x_train = pd.read_csv('../raw_data/train.csv')\n",
    "del x_train['ID']\n",
    "y_train = pd.read_csv('../raw_data/train.csv',usecols=['y'])\n",
    "x_test = pd.read_csv('../raw_data/test.csv')\n",
    "del x_test['ID']"
   ]
  },
  {
   "cell_type": "code",
   "execution_count": 3,
   "metadata": {
    "collapsed": false
   },
   "outputs": [
    {
     "name": "stdout",
     "output_type": "stream",
     "text": [
      "Empty DataFrame\n",
      "Columns: [col_name, count]\n",
      "Index: []\n",
      "Empty DataFrame\n",
      "Columns: [col_name, count]\n",
      "Index: []\n"
     ]
    }
   ],
   "source": [
    "## Checking for missing data\n",
    "missing = x_train.isnull().sum(axis=0).reset_index()\n",
    "missing.columns = ['col_name','count']\n",
    "missing = missing[missing['count']>0]\n",
    "print missing.head()\n",
    "\n",
    "missing = x_test.isnull().sum(axis=0).reset_index()\n",
    "missing.columns = ['col_name','count']\n",
    "missing = missing[missing['count']>0]\n",
    "print missing.head()\n",
    "\n",
    "del missing\n",
    "## NO missing data !"
   ]
  },
  {
   "cell_type": "code",
   "execution_count": 4,
   "metadata": {
    "collapsed": false
   },
   "outputs": [],
   "source": [
    "## Deleting columns which contain only 0s. Reference - https://www.kaggle.com/sudalairajkumar/simple-exploration-notebook-mercedes\n",
    "del_list = ['X11', 'X93', 'X107', 'X233', 'X235', 'X268', 'X289', 'X290', 'X293', 'X297', 'X330', 'X347']\n",
    "for i in del_list:\n",
    "    del x_train[i]\n",
    "    del x_test[i]"
   ]
  },
  {
   "cell_type": "code",
   "execution_count": 5,
   "metadata": {
    "collapsed": false
   },
   "outputs": [
    {
     "name": "stdout",
     "output_type": "stream",
     "text": [
      "('Unique val and size', \"['a', 'aa', 'ab', 'ac', 'ad', 'af', 'ai', 'aj', 'ak', 'al', 'am', 'ao', 'ap', 'aq', 'as', 'at', 'au', 'aw', 'ax', 'ay', 'az', 'b', 'ba', 'bc', 'c', 'd', 'e', 'f', 'g', 'h', 'i', 'j', 'k', 'l', 'm', 'n', 'o', 'q', 'r', 's', 't', 'u', 'v', 'w', 'x', 'y', 'z']\", 257)\n",
      "('Cols ', ['X0'])\n",
      "----------------------\n",
      "('Unique val and size', \"['a', 'b', 'c', 'd', 'e', 'f', 'g', 'h', 'i', 'j', 'k', 'l']\", 60)\n",
      "('Cols ', ['X6'])\n",
      "----------------------\n",
      "('Unique val and size', \"['a', 'b', 'c', 'd', 'e', 'f', 'g', 'h', 'i', 'j', 'k', 'l', 'm', 'n', 'o', 'p', 'q', 'r', 's', 't', 'u', 'v', 'w', 'x', 'y']\", 125)\n",
      "('Cols ', ['X8'])\n",
      "----------------------\n",
      "('Unique val and size', \"['a', 'aa', 'ab', 'b', 'c', 'd', 'e', 'f', 'g', 'h', 'i', 'j', 'k', 'l', 'm', 'n', 'o', 'p', 'q', 'r', 's', 't', 'u', 'v', 'w', 'y', 'z']\", 137)\n",
      "('Cols ', ['X1'])\n",
      "----------------------\n",
      "('Unique val and size', \"['a', 'aa', 'ac', 'ae', 'af', 'ag', 'ah', 'ai', 'ak', 'al', 'am', 'an', 'ao', 'ap', 'aq', 'ar', 'as', 'at', 'au', 'av', 'aw', 'ay', 'b', 'c', 'd', 'e', 'f', 'g', 'h', 'i', 'j', 'k', 'l', 'm', 'n', 'o', 'p', 'q', 'r', 's', 't', 'x', 'y', 'z']\", 241)\n",
      "('Cols ', ['X2'])\n",
      "----------------------\n",
      "('Unique val and size', \"['a', 'b', 'c', 'd']\", 20)\n",
      "('Cols ', ['X4'])\n",
      "----------------------\n",
      "('Unique val and size', \"['a', 'b', 'c', 'd', 'e', 'f', 'g']\", 35)\n",
      "('Cols ', ['X3'])\n",
      "----------------------\n",
      "('Unique val and size', \"['aa', 'ab', 'ac', 'ad', 'ae', 'af', 'ag', 'ah', 'c', 'd', 'f', 'g', 'h', 'i', 'j', 'k', 'l', 'm', 'n', 'o', 'p', 'q', 'r', 's', 'u', 'v', 'w', 'x', 'y']\", 153)\n",
      "('Cols ', ['X5'])\n",
      "----------------------\n"
     ]
    }
   ],
   "source": [
    "## Finding unique values of colmuns with data type objects.\n",
    "unique_dict = {}\n",
    "for i in x_train.columns:\n",
    "    if x_train[i].dtype == object:\n",
    "        uni_val = str(sorted(x_train[i].unique().tolist()))\n",
    "        #print type(uni_val)\n",
    "        temp_list = unique_dict.get(uni_val,[])\n",
    "        temp_list.append(i)\n",
    "        unique_dict[uni_val] = temp_list\n",
    "        \n",
    "for i,j in unique_dict.items():\n",
    "    print(\"Unique val and size\",i,len(i))\n",
    "    print(\"Cols \",j)\n",
    "    print \"----------------------\""
   ]
  },
  {
   "cell_type": "code",
   "execution_count": 6,
   "metadata": {
    "collapsed": false
   },
   "outputs": [],
   "source": [
    "## changing labels to ints. Labels corresponding to higher mean of y get high values.\n",
    "cols = x_train.columns\n",
    "for i in cols:\n",
    "    label = []\n",
    "    replace_dict = {}\n",
    "    if x_train[i].dtype == object:\n",
    "        uni_labels = x_train[i].unique().tolist()\n",
    "        for j in uni_labels:\n",
    "            avg = x_train[x_train[i]==j]['y'].mean()\n",
    "            label.append([avg,j])\n",
    "        label = sorted(label, key=itemgetter(0))\n",
    "        for k in range(0,len(label)):\n",
    "            replace_dict[label[k][1]] = k\n",
    "            \n",
    "        test_labels = x_test[i].unique().tolist()\n",
    "        for k in test_labels:\n",
    "            if not k in replace_dict:\n",
    "                replace_dict[k] = 0\n",
    "        x_train[i].replace(replace_dict,inplace=True)\n",
    "        x_test[i].replace(replace_dict,inplace=True)\n",
    "        \n",
    "        del label[:]\n",
    "        del replace_dict\n",
    "            "
   ]
  },
  {
   "cell_type": "code",
   "execution_count": 7,
   "metadata": {
    "collapsed": true
   },
   "outputs": [],
   "source": [
    "del x_train['y']\n",
    "x_train.to_csv('../processed_data/pre_x_train.csv',index=False)\n",
    "x_test.to_csv('../processed_data/pre_x_test.csv',index=False)\n",
    "y_train.to_csv('../processed_data/y_train.csv',index=False)"
   ]
  }
 ],
 "metadata": {
  "anaconda-cloud": {},
  "kernelspec": {
   "display_name": "Python [default]",
   "language": "python",
   "name": "python2"
  },
  "language_info": {
   "codemirror_mode": {
    "name": "ipython",
    "version": 2
   },
   "file_extension": ".py",
   "mimetype": "text/x-python",
   "name": "python",
   "nbconvert_exporter": "python",
   "pygments_lexer": "ipython2",
   "version": "2.7.12"
  }
 },
 "nbformat": 4,
 "nbformat_minor": 2
}
