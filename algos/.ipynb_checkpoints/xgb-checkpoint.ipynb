{
 "cells": [
  {
   "cell_type": "code",
   "execution_count": 1,
   "metadata": {
    "collapsed": true
   },
   "outputs": [],
   "source": [
    "import xgboost as xgb\n",
    "import pandas as pd\n",
    "from sklearn.decomposition import PCA, FastICA\n",
    "from sklearn.metrics import r2_score"
   ]
  },
  {
   "cell_type": "code",
   "execution_count": null,
   "metadata": {
    "collapsed": true
   },
   "outputs": [],
   "source": [
    "def xgb_r2_score(preds, dtrain):\n",
    "    labels = dtrain.get_label()\n",
    "    return 'r2', r2_score(labels, preds)"
   ]
  },
  {
   "cell_type": "code",
   "execution_count": 2,
   "metadata": {
    "collapsed": false
   },
   "outputs": [],
   "source": [
    "x_train = pd.read_csv('../processed_data/pre_x_train.csv')\n",
    "x_test = pd.read_csv('../processed_data/pre_x_test.csv')\n",
    "y_train = pd.read_csv('../processed_data/y_train.csv')\n",
    "x_test_id = pd.read_csv('../raw_data/test.csv',usecols=['ID'])"
   ]
  },
  {
   "cell_type": "code",
   "execution_count": 21,
   "metadata": {
    "collapsed": false
   },
   "outputs": [],
   "source": [
    "params = {}\n",
    "params['objective'] = 'reg:linear'\n",
    "params['eval_metric'] = 'rmse'\n",
    "params['eta'] = 0.02\n",
    "params['max_depth'] = 4\n",
    "params['base_score'] = y_train['y'].mean()\n",
    "d_train = xgb.DMatrix(x_train,y_train)\n",
    "watchlist = [(d_train, 'train')]\n",
    "\n",
    "d_test = xgb.DMatrix(x_test)"
   ]
  },
  {
   "cell_type": "code",
   "execution_count": 22,
   "metadata": {
    "collapsed": false
   },
   "outputs": [
    {
     "name": "stdout",
     "output_type": "stream",
     "text": [
      "[0]\ttrain-rmse:12.5315\n",
      "Will train until train-rmse hasn't improved in 50 rounds.\n",
      "[10]\ttrain-rmse:11.2796\n",
      "[20]\ttrain-rmse:10.3554\n",
      "[30]\ttrain-rmse:9.68456\n",
      "[40]\ttrain-rmse:9.20302\n",
      "[50]\ttrain-rmse:8.86115\n",
      "[60]\ttrain-rmse:8.61663\n",
      "[70]\ttrain-rmse:8.4438\n",
      "[80]\ttrain-rmse:8.31926\n",
      "[90]\ttrain-rmse:8.23011\n",
      "[100]\ttrain-rmse:8.16406\n",
      "[110]\ttrain-rmse:8.10997\n",
      "[120]\ttrain-rmse:8.06052\n",
      "[130]\ttrain-rmse:8.02373\n",
      "[140]\ttrain-rmse:7.99262\n",
      "[150]\ttrain-rmse:7.96231\n",
      "[160]\ttrain-rmse:7.92768\n",
      "[170]\ttrain-rmse:7.88644\n",
      "[180]\ttrain-rmse:7.8535\n",
      "[190]\ttrain-rmse:7.82932\n",
      "[199]\ttrain-rmse:7.81335\n"
     ]
    }
   ],
   "source": [
    "bst = xgb.train(params, d_train ,200, watchlist,early_stopping_rounds=50, verbose_eval=10)"
   ]
  },
  {
   "cell_type": "code",
   "execution_count": 23,
   "metadata": {
    "collapsed": false
   },
   "outputs": [],
   "source": [
    "y_test = bst.predict(d_test)\n",
    "sub = pd.DataFrame()\n",
    "sub['ID'] = x_test_id['ID']\n",
    "sub['y'] = y_test\n",
    "sub.to_csv('../output/simple10.csv', index=False)"
   ]
  }
 ],
 "metadata": {
  "anaconda-cloud": {},
  "kernelspec": {
   "display_name": "Python [default]",
   "language": "python",
   "name": "python2"
  },
  "language_info": {
   "codemirror_mode": {
    "name": "ipython",
    "version": 2
   },
   "file_extension": ".py",
   "mimetype": "text/x-python",
   "name": "python",
   "nbconvert_exporter": "python",
   "pygments_lexer": "ipython2",
   "version": "2.7.12"
  }
 },
 "nbformat": 4,
 "nbformat_minor": 2
}
