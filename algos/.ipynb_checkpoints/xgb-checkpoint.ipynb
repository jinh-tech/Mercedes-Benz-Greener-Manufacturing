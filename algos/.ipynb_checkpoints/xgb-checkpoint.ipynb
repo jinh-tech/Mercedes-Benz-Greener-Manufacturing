{
 "cells": [
  {
   "cell_type": "code",
   "execution_count": 1,
   "metadata": {
    "collapsed": true
   },
   "outputs": [],
   "source": [
    "import xgboost as xgb\n",
    "import pandas as pd\n",
    "from sklearn.decomposition import PCA, FastICA\n",
    "from sklearn.metrics import r2_score"
   ]
  },
  {
   "cell_type": "code",
   "execution_count": 19,
   "metadata": {
    "collapsed": false
   },
   "outputs": [],
   "source": [
    "# x_train = pd.read_csv('../processed_data/pre_x_train.csv')\n",
    "# x_test = pd.read_csv('../processed_data/pre_x_test.csv')\n",
    "x_train = pd.read_csv('../processed_data/train_added_30_all.csv')\n",
    "x_test = pd.read_csv('../processed_data/test_added_30_all.csv')\n",
    "y_train = pd.read_csv('../processed_data/y_train.csv')\n",
    "x_test_id = pd.read_csv('../raw_data/test.csv',usecols=['ID'])"
   ]
  },
  {
   "cell_type": "code",
   "execution_count": 20,
   "metadata": {
    "collapsed": false
   },
   "outputs": [],
   "source": [
    "params = {}\n",
    "params['objective'] = 'reg:linear'\n",
    "params['eval_metric'] = 'rmse'\n",
    "params['eta'] = 0.02\n",
    "params['max_depth'] = 3\n",
    "params['base_score'] = y_train['y'].mean()\n",
    "d_train = xgb.DMatrix(x_train,y_train)\n",
    "watchlist = [(d_train, 'train')]\n",
    "\n",
    "d_test = xgb.DMatrix(x_test)"
   ]
  },
  {
   "cell_type": "code",
   "execution_count": 21,
   "metadata": {
    "collapsed": false
   },
   "outputs": [
    {
     "name": "stdout",
     "output_type": "stream",
     "text": [
      "[0]\ttrain-rmse:12.5331\n",
      "Will train until train-rmse hasn't improved in 50 rounds.\n",
      "[10]\ttrain-rmse:11.2963\n",
      "[20]\ttrain-rmse:10.3835\n",
      "[30]\ttrain-rmse:9.72091\n",
      "[40]\ttrain-rmse:9.24655\n",
      "[50]\ttrain-rmse:8.90947\n",
      "[60]\ttrain-rmse:8.67043\n",
      "[70]\ttrain-rmse:8.50021\n",
      "[80]\ttrain-rmse:8.3746\n",
      "[90]\ttrain-rmse:8.27606\n",
      "[100]\ttrain-rmse:8.19667\n",
      "[110]\ttrain-rmse:8.1142\n",
      "[120]\ttrain-rmse:8.04038\n",
      "[130]\ttrain-rmse:7.96742\n",
      "[140]\ttrain-rmse:7.90594\n",
      "[150]\ttrain-rmse:7.85393\n",
      "[160]\ttrain-rmse:7.818\n",
      "[170]\ttrain-rmse:7.77582\n",
      "[180]\ttrain-rmse:7.73987\n",
      "[190]\ttrain-rmse:7.71399\n",
      "[200]\ttrain-rmse:7.69026\n",
      "[210]\ttrain-rmse:7.67163\n",
      "[220]\ttrain-rmse:7.64703\n",
      "[230]\ttrain-rmse:7.62751\n",
      "[240]\ttrain-rmse:7.60921\n",
      "[249]\ttrain-rmse:7.58739\n"
     ]
    }
   ],
   "source": [
    "bst = xgb.train(params, d_train ,250, watchlist,early_stopping_rounds=50, verbose_eval=10)"
   ]
  },
  {
   "cell_type": "code",
   "execution_count": 22,
   "metadata": {
    "collapsed": false
   },
   "outputs": [],
   "source": [
    "y_test = bst.predict(d_test)\n",
    "sub = pd.DataFrame()\n",
    "sub['ID'] = x_test_id['ID']\n",
    "sub['y'] = y_test\n",
    "sub.to_csv('../output/added2.csv', index=False)"
   ]
  }
 ],
 "metadata": {
  "anaconda-cloud": {},
  "kernelspec": {
   "display_name": "Python [default]",
   "language": "python",
   "name": "python2"
  },
  "language_info": {
   "codemirror_mode": {
    "name": "ipython",
    "version": 2
   },
   "file_extension": ".py",
   "mimetype": "text/x-python",
   "name": "python",
   "nbconvert_exporter": "python",
   "pygments_lexer": "ipython2",
   "version": "2.7.12"
  }
 },
 "nbformat": 4,
 "nbformat_minor": 2
}
