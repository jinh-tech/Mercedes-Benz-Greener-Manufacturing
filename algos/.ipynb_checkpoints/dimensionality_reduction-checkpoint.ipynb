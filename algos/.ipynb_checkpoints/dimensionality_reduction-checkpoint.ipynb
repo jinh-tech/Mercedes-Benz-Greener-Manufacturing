{
 "cells": [
  {
   "cell_type": "code",
   "execution_count": 1,
   "metadata": {
    "collapsed": true
   },
   "outputs": [],
   "source": [
    "import numpy as np\n",
    "import pandas as pd\n",
    "from sklearn.decomposition import PCA, FastICA\n",
    "from sklearn.decomposition import TruncatedSVD"
   ]
  },
  {
   "cell_type": "code",
   "execution_count": 2,
   "metadata": {
    "collapsed": true
   },
   "outputs": [],
   "source": [
    "x_train = pd.read_csv('../processed_data/pre_x_train.csv')\n",
    "x_test = pd.read_csv('../processed_data/pre_x_test.csv')\n",
    "y_train = pd.read_csv('../processed_data/y_train.csv')\n",
    "x_test_id = pd.read_csv('../raw_data/test.csv',usecols=['ID'])"
   ]
  },
  {
   "cell_type": "code",
   "execution_count": 1,
   "metadata": {
    "collapsed": false
   },
   "outputs": [
    {
     "ename": "NameError",
     "evalue": "name 'FastICA' is not defined",
     "output_type": "error",
     "traceback": [
      "\u001b[0;31m---------------------------------------------------------------------------\u001b[0m",
      "\u001b[0;31mNameError\u001b[0m                                 Traceback (most recent call last)",
      "\u001b[0;32m<ipython-input-1-f6ae523ddb33>\u001b[0m in \u001b[0;36m<module>\u001b[0;34m()\u001b[0m\n\u001b[1;32m      4\u001b[0m \u001b[0;31m# pca_test = pca.transform(x_test)\u001b[0m\u001b[0;34m\u001b[0m\u001b[0;34m\u001b[0m\u001b[0m\n\u001b[1;32m      5\u001b[0m \u001b[0;34m\u001b[0m\u001b[0m\n\u001b[0;32m----> 6\u001b[0;31m \u001b[0mica\u001b[0m \u001b[0;34m=\u001b[0m \u001b[0mFastICA\u001b[0m\u001b[0;34m(\u001b[0m\u001b[0mn_components\u001b[0m\u001b[0;34m=\u001b[0m\u001b[0mdim\u001b[0m\u001b[0;34m,\u001b[0m\u001b[0mrandom_state\u001b[0m\u001b[0;34m=\u001b[0m\u001b[0;36m42\u001b[0m\u001b[0;34m)\u001b[0m\u001b[0;34m\u001b[0m\u001b[0m\n\u001b[0m\u001b[1;32m      7\u001b[0m \u001b[0mica_train\u001b[0m \u001b[0;34m=\u001b[0m \u001b[0mica\u001b[0m\u001b[0;34m.\u001b[0m\u001b[0mfit_transform\u001b[0m\u001b[0;34m(\u001b[0m\u001b[0mx_train\u001b[0m\u001b[0;34m)\u001b[0m\u001b[0;34m\u001b[0m\u001b[0m\n\u001b[1;32m      8\u001b[0m \u001b[0;31m#ica_test = ica.transform(x_test)\u001b[0m\u001b[0;34m\u001b[0m\u001b[0;34m\u001b[0m\u001b[0m\n",
      "\u001b[0;31mNameError\u001b[0m: name 'FastICA' is not defined"
     ]
    }
   ],
   "source": [
    "dim = 10\n",
    "# pca = PCA(n_components=dim)\n",
    "# pca_train = pca.fit_transform(x_train)\n",
    "# pca_test = pca.transform(x_test)\n",
    "\n",
    "ica = FastICA(n_components=dim,random_state=42)\n",
    "ica_train = ica.fit_transform(x_train)\n",
    "#ica_test = ica.transform(x_test)\n",
    "\n",
    "# svd = TruncatedSVD(n_components=dim)\n",
    "# svd_train = svd.fit_transform(x_train)\n",
    "# svd_test = svd.transform(x_test)"
   ]
  },
  {
   "cell_type": "code",
   "execution_count": null,
   "metadata": {
    "collapsed": true
   },
   "outputs": [],
   "source": [
    "new_x_train = pd.DataFrame()\n",
    "new_x_test= pd.DataFrame()\n",
    "for i in range(1,dim+1):\n",
    "    new_x_train['pca'+str(i)] = pca_train[:,i-1]\n",
    "    new_x_test['pca'+str(i)] = pca_test[:,i-1]\n",
    "    new_x_train['ica'+str(i)] = ica_train[:,i-1]\n",
    "    new_x_test['ica'+str(i)] = ica_test[:,i-1]\n",
    "    new_x_train['svd'+str(i)] = svd_train[:,i-1]\n",
    "    new_x_test['svd'+str(i)] = svd_test[:,i-1]"
   ]
  },
  {
   "cell_type": "code",
   "execution_count": null,
   "metadata": {
    "collapsed": true
   },
   "outputs": [],
   "source": [
    "new_x_train.to_csv(\"../processed_data/dim_\"+str(dim)+\"_all.csv\",index=False)\n",
    "new_x_test.to_csv(\"../processed_data/dim_\"+str(dim)+\"_all.csv\",index=False)"
   ]
  }
 ],
 "metadata": {
  "anaconda-cloud": {},
  "kernelspec": {
   "display_name": "Python [default]",
   "language": "python",
   "name": "python2"
  },
  "language_info": {
   "codemirror_mode": {
    "name": "ipython",
    "version": 2
   },
   "file_extension": ".py",
   "mimetype": "text/x-python",
   "name": "python",
   "nbconvert_exporter": "python",
   "pygments_lexer": "ipython2",
   "version": "2.7.12"
  }
 },
 "nbformat": 4,
 "nbformat_minor": 2
}
