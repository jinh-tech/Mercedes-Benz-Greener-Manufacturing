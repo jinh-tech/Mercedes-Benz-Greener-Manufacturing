{
 "cells": [
  {
   "cell_type": "code",
   "execution_count": 1,
   "metadata": {
    "collapsed": true
   },
   "outputs": [],
   "source": [
    "import numpy as np\n",
    "import pandas as pd\n",
    "from sklearn.decomposition import PCA, FastICA\n",
    "from sklearn.decomposition import TruncatedSVD"
   ]
  },
  {
   "cell_type": "code",
   "execution_count": 14,
   "metadata": {
    "collapsed": true
   },
   "outputs": [],
   "source": [
    "x_train = pd.read_csv('../processed_data/pre_x_train.csv')\n",
    "x_test = pd.read_csv('../processed_data/pre_x_test.csv')\n",
    "y_train = pd.read_csv('../processed_data/y_train.csv')\n",
    "x_test_id = pd.read_csv('../raw_data/test.csv',usecols=['ID'])"
   ]
  },
  {
   "cell_type": "code",
   "execution_count": 15,
   "metadata": {
    "collapsed": false
   },
   "outputs": [],
   "source": [
    "dim = 30\n",
    "pca = PCA(n_components=dim)\n",
    "pca_train = pca.fit_transform(x_train)\n",
    "pca_test = pca.transform(x_test)\n",
    "\n",
    "ica = FastICA(n_components=dim,random_state=42,max_iter=500)\n",
    "ica_train = ica.fit_transform(x_train)\n",
    "ica_test = ica.transform(x_test)\n",
    "\n",
    "svd = TruncatedSVD(n_components=dim)\n",
    "svd_train = svd.fit_transform(x_train)\n",
    "svd_test = svd.transform(x_test)\n",
    "\n",
    "new_x_train = x_train\n",
    "new_x_test= x_test\n",
    "for i in range(1,dim+1):\n",
    "    new_x_train['pca'+str(i)] = pca_train[:,i-1]\n",
    "    new_x_test['pca'+str(i)] = pca_test[:,i-1]\n",
    "    new_x_train['ica'+str(i)] = ica_train[:,i-1]\n",
    "    new_x_test['ica'+str(i)] = ica_test[:,i-1]\n",
    "    new_x_train['svd'+str(i)] = svd_train[:,i-1]\n",
    "    new_x_test['svd'+str(i)] = svd_test[:,i-1]\n",
    "\n",
    "new_x_train.to_csv(\"../processed_data/train_added_\"+str(dim)+\"_all.csv\",index=False)\n",
    "new_x_test.to_csv(\"../processed_data/test_added_\"+str(dim)+\"_all.csv\",index=False)"
   ]
  }
 ],
 "metadata": {
  "anaconda-cloud": {},
  "kernelspec": {
   "display_name": "Python [default]",
   "language": "python",
   "name": "python2"
  },
  "language_info": {
   "codemirror_mode": {
    "name": "ipython",
    "version": 2
   },
   "file_extension": ".py",
   "mimetype": "text/x-python",
   "name": "python",
   "nbconvert_exporter": "python",
   "pygments_lexer": "ipython2",
   "version": "2.7.12"
  }
 },
 "nbformat": 4,
 "nbformat_minor": 2
}
