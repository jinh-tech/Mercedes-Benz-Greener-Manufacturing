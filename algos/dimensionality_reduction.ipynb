{
 "cells": [
  {
   "cell_type": "code",
   "execution_count": 1,
   "metadata": {
    "collapsed": true
   },
   "outputs": [],
   "source": [
    "import numpy as np\n",
    "import pandas as pd\n",
    "from sklearn.decomposition import PCA, FastICA\n",
    "from sklearn.decomposition import TruncatedSVD\n",
    "from sklearn.random_projection import GaussianRandomProjection\n",
    "from sklearn.random_projection import SparseRandomProjection\n",
    "from sklearn.manifold import Isomap,LocallyLinearEmbedding"
   ]
  },
  {
   "cell_type": "code",
   "execution_count": 2,
   "metadata": {
    "collapsed": true
   },
   "outputs": [],
   "source": [
    "x_train = pd.read_csv('../processed_data/pre_x_train.csv')\n",
    "x_test = pd.read_csv('../processed_data/pre_x_test.csv')\n",
    "y_train = pd.read_csv('../processed_data/y_train.csv')\n",
    "x_test_id = pd.read_csv('../raw_data/test.csv',usecols=['ID'])"
   ]
  },
  {
   "cell_type": "code",
   "execution_count": 6,
   "metadata": {
    "collapsed": true
   },
   "outputs": [],
   "source": [
    "dim = 12\n",
    "pca = PCA(n_components=dim)\n",
    "pca_train = pca.fit_transform(x_train)\n",
    "pca_test = pca.transform(x_test)\n",
    "\n",
    "ica = FastICA(n_components=dim)\n",
    "ica_train = ica.fit_transform(x_train)\n",
    "ica_test = ica.transform(x_test)\n",
    "\n",
    "svd = TruncatedSVD(n_components=dim)\n",
    "svd_train = svd.fit_transform(x_train)\n",
    "svd_test = svd.transform(x_test)\n",
    "\n",
    "grp = GaussianRandomProjection(n_components=dim,eps=0.1)\n",
    "grp_train = grp.fit_transform(x_train)\n",
    "grp_test = grp.transform(x_test)\n",
    "\n",
    "srp = SparseRandomProjection(n_components=dim,dense_output=True)\n",
    "srp_train = srp.fit_transform(x_train)\n",
    "srp_test = srp.transform(x_test)\n",
    "\n",
    "# iso = Isomap(n_components=dim,n_jobs=-1)\n",
    "# iso_train = iso.fit_transform(x_train)\n",
    "# iso_test = iso.transform(x_test)\n",
    "\n",
    "# lle = LocallyLinearEmbedding(n_components=dim,n_jobs=-1)\n",
    "# lle_train = lle.fit_transform(x_train)\n",
    "# lle_test = lle.transform(x_test)\n",
    "\n",
    "# lle1 = LocallyLinearEmbedding(n_components=dim,n_jobs=-1,method='modified',n_neighbors=dim+1)\n",
    "# lle1_train = lle1.fit_transform(x_train)\n",
    "# lle1_test = lle1.transform(x_test)\n",
    "\n",
    "# lle2 = LocallyLinearEmbedding(n_components=dim,n_jobs=-1,method='ltsa',n_neighbors=dim+1)\n",
    "# lle2_train = lle2.fit_transform(x_train)\n",
    "# lle2_test = lle2.transform(x_test)"
   ]
  },
  {
   "cell_type": "code",
   "execution_count": 7,
   "metadata": {
    "collapsed": true
   },
   "outputs": [],
   "source": [
    "new_x_train = x_train\n",
    "new_x_test= x_test\n",
    "\n",
    "for i in range(1,dim+1):\n",
    "    new_x_train['pca'+str(i)] = pca_train[:,i-1]\n",
    "    new_x_test['pca'+str(i)] = pca_test[:,i-1]\n",
    "    new_x_train['ica'+str(i)] = ica_train[:,i-1]\n",
    "    new_x_test['ica'+str(i)] = ica_test[:,i-1]\n",
    "    new_x_train['svd'+str(i)] = svd_train[:,i-1]\n",
    "    new_x_test['svd'+str(i)] = svd_test[:,i-1]\n",
    "    new_x_train['grp'+str(i)] = grp_train[:,i-1]\n",
    "    new_x_test['grp'+str(i)] = grp_test[:,i-1]\n",
    "    new_x_train['srp'+str(i)] = srp_train[:,i-1]\n",
    "    new_x_test['srp'+str(i)] = srp_test[:,i-1]\n",
    "#     new_x_train['iso'+str(i)] = iso_train[:,i-1]\n",
    "#     new_x_test['iso'+str(i)] = iso_test[:,i-1]\n",
    "#     new_x_train['lle'+str(i)] = lle_train[:,i-1]\n",
    "#     new_x_test['lle'+str(i)] = lle_test[:,i-1]\n",
    "#     new_x_train['lle_one'+str(i)] = lle1_train[:,i-1]\n",
    "#     new_x_test['lle_one'+str(i)] = lle1_test[:,i-1]\n",
    "#     new_x_train['lle_two'+str(i)] = lle2_train[:,i-1]\n",
    "#     new_x_test['lle_two'+str(i)] = lle2_test[:,i-1]\n",
    "\n",
    "new_x_train.to_csv(\"../processed_data/new_train_added_\"+str(dim)+\"_all.csv\",index=False)\n",
    "new_x_test.to_csv(\"../processed_data/new_test_added_\"+str(dim)+\"_all.csv\",index=False)"
   ]
  }
 ],
 "metadata": {
  "anaconda-cloud": {},
  "kernelspec": {
   "display_name": "Python [default]",
   "language": "python",
   "name": "python2"
  },
  "language_info": {
   "codemirror_mode": {
    "name": "ipython",
    "version": 2
   },
   "file_extension": ".py",
   "mimetype": "text/x-python",
   "name": "python",
   "nbconvert_exporter": "python",
   "pygments_lexer": "ipython2",
   "version": "2.7.12"
  }
 },
 "nbformat": 4,
 "nbformat_minor": 2
}
