{
 "cells": [
  {
   "cell_type": "code",
   "execution_count": 1,
   "metadata": {
    "collapsed": false,
    "scrolled": true
   },
   "outputs": [
    {
     "name": "stderr",
     "output_type": "stream",
     "text": [
      "Using TensorFlow backend.\n"
     ]
    }
   ],
   "source": [
    "import numpy as np\n",
    "import tensorflow as tf\n",
    "from keras.models import Sequential\n",
    "from keras.layers import Dense, Activation\n",
    "import xgboost as xgb\n",
    "import pandas as pd\n",
    "from sklearn.decomposition import PCA, FastICA\n",
    "from sklearn.metrics import r2_score"
   ]
  },
  {
   "cell_type": "code",
   "execution_count": 2,
   "metadata": {
    "collapsed": false
   },
   "outputs": [],
   "source": [
    "def neural(shape): ## shape should be a tuple\n",
    "    model = Sequential()\n",
    "    model.add(Dense(700,input_shape=shape))\n",
    "    model.add(Activation('relu'))\n",
    "    model.add(Dense(500))\n",
    "    model.add(Activation('relu'))\n",
    "    model.add(Dense(300))\n",
    "    model.add(Activation('relu'))\n",
    "    model.add(Dense(100))\n",
    "    model.add(Activation('relu'))\n",
    "    model.add(Dense(1))\n",
    "    model.compile(optimizer='rmsprop',loss='mse')\n",
    "    return model"
   ]
  },
  {
   "cell_type": "code",
   "execution_count": 9,
   "metadata": {
    "collapsed": true
   },
   "outputs": [],
   "source": [
    "x_train = pd.read_csv('../processed_data/pre_x_train.csv').as_matrix()\n",
    "x_test = pd.read_csv('../processed_data/pre_x_test.csv').as_matrix()\n",
    "y_train = pd.read_csv('../processed_data/y_train.csv').as_matrix()\n",
    "x_test_id = pd.read_csv('../raw_data/test.csv',usecols=['ID'])"
   ]
  },
  {
   "cell_type": "code",
   "execution_count": 4,
   "metadata": {
    "collapsed": false
   },
   "outputs": [
    {
     "name": "stdout",
     "output_type": "stream",
     "text": [
      "(4209, 364) (4209, 364) (4209, 1) (4209, 1)\n"
     ]
    }
   ],
   "source": [
    "print x_train.shape,x_test.shape,y_train.shape,x_test_id.shape"
   ]
  },
  {
   "cell_type": "code",
   "execution_count": 7,
   "metadata": {
    "collapsed": false
   },
   "outputs": [
    {
     "name": "stdout",
     "output_type": "stream",
     "text": [
      "Epoch 1/100\n",
      "4s - loss: 321.3259\n",
      "Epoch 2/100\n",
      "4s - loss: 162.9006\n",
      "Epoch 3/100\n",
      "4s - loss: 140.6646\n",
      "Epoch 4/100\n",
      "4s - loss: 126.2019\n",
      "Epoch 5/100\n",
      "4s - loss: 115.7449\n",
      "Epoch 6/100\n",
      "4s - loss: 110.8343\n",
      "Epoch 7/100\n",
      "4s - loss: 104.5283\n",
      "Epoch 8/100\n",
      "4s - loss: 104.3686\n",
      "Epoch 9/100\n",
      "3s - loss: 99.6388\n",
      "Epoch 10/100\n",
      "4s - loss: 96.5582\n",
      "Epoch 11/100\n",
      "4s - loss: 93.3795\n",
      "Epoch 12/100\n",
      "4s - loss: 92.4342\n",
      "Epoch 13/100\n",
      "4s - loss: 92.0646\n",
      "Epoch 14/100\n",
      "4s - loss: 88.3067\n",
      "Epoch 15/100\n",
      "4s - loss: 88.3566\n",
      "Epoch 16/100\n",
      "3s - loss: 87.7495\n",
      "Epoch 17/100\n",
      "3s - loss: 85.8211\n",
      "Epoch 18/100\n",
      "3s - loss: 85.5664\n",
      "Epoch 19/100\n",
      "3s - loss: 84.6698\n",
      "Epoch 20/100\n",
      "3s - loss: 83.7074\n",
      "Epoch 21/100\n",
      "3s - loss: 82.3879\n",
      "Epoch 22/100\n",
      "3s - loss: 82.3524\n",
      "Epoch 23/100\n",
      "4s - loss: 81.0077\n",
      "Epoch 24/100\n",
      "3s - loss: 79.0802\n",
      "Epoch 25/100\n",
      "3s - loss: 78.2952\n",
      "Epoch 26/100\n",
      "3s - loss: 79.6677\n",
      "Epoch 27/100\n",
      "4s - loss: 78.5217\n",
      "Epoch 28/100\n",
      "4s - loss: 78.2054\n",
      "Epoch 29/100\n",
      "3s - loss: 77.9181\n",
      "Epoch 30/100\n",
      "4s - loss: 76.9656\n",
      "Epoch 31/100\n",
      "4s - loss: 77.0762\n",
      "Epoch 32/100\n",
      "4s - loss: 77.8445\n",
      "Epoch 33/100\n",
      "4s - loss: 73.8001\n",
      "Epoch 34/100\n",
      "4s - loss: 74.7651\n",
      "Epoch 35/100\n",
      "4s - loss: 74.4371\n",
      "Epoch 36/100\n",
      "4s - loss: 74.8127\n",
      "Epoch 37/100\n",
      "4s - loss: 74.3019\n",
      "Epoch 38/100\n",
      "4s - loss: 72.4120\n",
      "Epoch 39/100\n",
      "4s - loss: 71.3718\n",
      "Epoch 40/100\n",
      "4s - loss: 73.0268\n",
      "Epoch 41/100\n",
      "4s - loss: 71.6347\n",
      "Epoch 42/100\n",
      "4s - loss: 70.9840\n",
      "Epoch 43/100\n",
      "4s - loss: 71.0355\n",
      "Epoch 44/100\n",
      "4s - loss: 70.5286\n",
      "Epoch 45/100\n",
      "4s - loss: 70.4567\n",
      "Epoch 46/100\n",
      "4s - loss: 68.5736\n",
      "Epoch 47/100\n",
      "4s - loss: 69.5778\n",
      "Epoch 48/100\n",
      "4s - loss: 68.6153\n",
      "Epoch 49/100\n",
      "5s - loss: 68.0797\n",
      "Epoch 50/100\n",
      "4s - loss: 68.6769\n",
      "Epoch 51/100\n",
      "4s - loss: 68.5615\n",
      "Epoch 52/100\n",
      "4s - loss: 67.3309\n",
      "Epoch 53/100\n",
      "4s - loss: 67.6079\n",
      "Epoch 54/100\n",
      "4s - loss: 65.0941\n",
      "Epoch 55/100\n",
      "4s - loss: 65.9789\n",
      "Epoch 56/100\n",
      "5s - loss: 64.6970\n",
      "Epoch 57/100\n",
      "5s - loss: 65.1872\n",
      "Epoch 58/100\n",
      "4s - loss: 65.7874\n",
      "Epoch 59/100\n",
      "5s - loss: 65.3960\n",
      "Epoch 60/100\n",
      "4s - loss: 65.3412\n",
      "Epoch 61/100\n",
      "6s - loss: 65.8784\n",
      "Epoch 62/100\n",
      "4s - loss: 63.4579\n",
      "Epoch 63/100\n",
      "4s - loss: 63.8053\n",
      "Epoch 64/100\n",
      "4s - loss: 63.3493\n",
      "Epoch 65/100\n",
      "4s - loss: 62.3063\n",
      "Epoch 66/100\n",
      "4s - loss: 62.2479\n",
      "Epoch 67/100\n",
      "4s - loss: 63.4337\n",
      "Epoch 68/100\n",
      "4s - loss: 63.0804\n",
      "Epoch 69/100\n",
      "5s - loss: 61.8891\n",
      "Epoch 70/100\n",
      "5s - loss: 62.1020\n",
      "Epoch 71/100\n",
      "4s - loss: 61.8105\n",
      "Epoch 72/100\n",
      "4s - loss: 60.5108\n",
      "Epoch 73/100\n",
      "5s - loss: 61.7098\n",
      "Epoch 74/100\n",
      "4s - loss: 61.4368\n",
      "Epoch 75/100\n",
      "4s - loss: 60.4800\n",
      "Epoch 76/100\n",
      "4s - loss: 60.5741\n",
      "Epoch 77/100\n",
      "4s - loss: 59.6427\n",
      "Epoch 78/100\n",
      "5s - loss: 59.1225\n",
      "Epoch 79/100\n",
      "4s - loss: 59.1894\n",
      "Epoch 80/100\n",
      "4s - loss: 59.7805\n",
      "Epoch 81/100\n",
      "4s - loss: 58.1857\n",
      "Epoch 82/100\n",
      "4s - loss: 57.4292\n",
      "Epoch 83/100\n",
      "4s - loss: 58.2404\n",
      "Epoch 84/100\n",
      "4s - loss: 57.5157\n",
      "Epoch 85/100\n",
      "4s - loss: 57.1250\n",
      "Epoch 86/100\n",
      "5s - loss: 56.2660\n",
      "Epoch 87/100\n",
      "5s - loss: 57.0168\n",
      "Epoch 88/100\n",
      "4s - loss: 55.2252\n",
      "Epoch 89/100\n",
      "5s - loss: 56.1327\n",
      "Epoch 90/100\n",
      "6s - loss: 55.4296\n",
      "Epoch 91/100\n",
      "4s - loss: 56.6346\n",
      "Epoch 92/100\n",
      "4s - loss: 55.3936\n",
      "Epoch 93/100\n",
      "5s - loss: 55.4634\n",
      "Epoch 94/100\n",
      "5s - loss: 55.3990\n",
      "Epoch 95/100\n",
      "4s - loss: 55.0308\n",
      "Epoch 96/100\n",
      "4s - loss: 55.7647\n",
      "Epoch 97/100\n",
      "4s - loss: 54.0409\n",
      "Epoch 98/100\n",
      "4s - loss: 54.4162\n",
      "Epoch 99/100\n",
      "4s - loss: 54.0209\n",
      "Epoch 100/100\n",
      "5s - loss: 53.7959\n"
     ]
    },
    {
     "data": {
      "text/plain": [
       "<keras.callbacks.History at 0x7f77a7c10710>"
      ]
     },
     "execution_count": 7,
     "metadata": {},
     "output_type": "execute_result"
    }
   ],
   "source": [
    "model = neural((x_train.shape[1],))\n",
    "model.fit(x_train,y_train,epochs=100,batch_size=10,verbose=2)"
   ]
  },
  {
   "cell_type": "code",
   "execution_count": 10,
   "metadata": {
    "collapsed": false
   },
   "outputs": [],
   "source": [
    "y_test = model.predict(x_test)\n",
    "sub = pd.DataFrame()\n",
    "sub['ID'] = x_test_id['ID']\n",
    "sub['y'] = y_test\n",
    "sub.to_csv('../output/nn1.csv', index=False)"
   ]
  }
 ],
 "metadata": {
  "anaconda-cloud": {},
  "kernelspec": {
   "display_name": "Python [default]",
   "language": "python",
   "name": "python2"
  },
  "language_info": {
   "codemirror_mode": {
    "name": "ipython",
    "version": 2
   },
   "file_extension": ".py",
   "mimetype": "text/x-python",
   "name": "python",
   "nbconvert_exporter": "python",
   "pygments_lexer": "ipython2",
   "version": "2.7.12"
  }
 },
 "nbformat": 4,
 "nbformat_minor": 2
}
