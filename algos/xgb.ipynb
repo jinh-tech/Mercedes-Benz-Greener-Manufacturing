{
 "cells": [
  {
   "cell_type": "code",
   "execution_count": 23,
   "metadata": {
    "collapsed": true
   },
   "outputs": [],
   "source": [
    "import xgboost as xgb\n",
    "import pandas as pd\n",
    "from sklearn.decomposition import PCA, FastICA"
   ]
  },
  {
   "cell_type": "code",
   "execution_count": 24,
   "metadata": {
    "collapsed": false
   },
   "outputs": [],
   "source": [
    "x_train = pd.read_csv('../processed_data/pre_x_train.csv')\n",
    "x_test = pd.read_csv('../processed_data/pre_x_test.csv')\n",
    "y_train = pd.read_csv('../processed_data/y_train.csv')\n",
    "x_test_id = pd.read_csv('../raw_data/test.csv',usecols=['ID'])"
   ]
  },
  {
   "cell_type": "code",
   "execution_count": 47,
   "metadata": {
    "collapsed": false
   },
   "outputs": [],
   "source": [
    "params = {}\n",
    "params['objective'] = 'reg:linear'\n",
    "params['eval_metric'] = 'rmse'\n",
    "params['eta'] = 0.02\n",
    "params['max_depth'] = 5\n",
    "params['base_score'] = y_train['y'].mean()\n",
    "d_train = xgb.DMatrix(x_train,y_train)\n",
    "watchlist = [(d_train, 'train')]\n",
    "\n",
    "d_test = xgb.DMatrix(x_test)"
   ]
  },
  {
   "cell_type": "code",
   "execution_count": 48,
   "metadata": {
    "collapsed": false
   },
   "outputs": [
    {
     "name": "stdout",
     "output_type": "stream",
     "text": [
      "[0]\ttrain-rmse:12.5302\n",
      "Will train until train-rmse hasn't improved in 50 rounds.\n",
      "[10]\ttrain-rmse:11.265\n",
      "[20]\ttrain-rmse:10.3252\n",
      "[30]\ttrain-rmse:9.6382\n",
      "[40]\ttrain-rmse:9.14167\n",
      "[50]\ttrain-rmse:8.78511\n",
      "[60]\ttrain-rmse:8.52688\n",
      "[70]\ttrain-rmse:8.33891\n",
      "[80]\ttrain-rmse:8.20018\n",
      "[90]\ttrain-rmse:8.09394\n",
      "[100]\ttrain-rmse:8.01396\n",
      "[110]\ttrain-rmse:7.94782\n",
      "[120]\ttrain-rmse:7.88711\n",
      "[130]\ttrain-rmse:7.84515\n",
      "[140]\ttrain-rmse:7.79263\n",
      "[150]\ttrain-rmse:7.75411\n",
      "[160]\ttrain-rmse:7.72356\n",
      "[170]\ttrain-rmse:7.69785\n",
      "[180]\ttrain-rmse:7.65239\n",
      "[190]\ttrain-rmse:7.612\n",
      "[199]\ttrain-rmse:7.58324\n"
     ]
    }
   ],
   "source": [
    "bst = xgb.train(params, d_train ,200, watchlist,early_stopping_rounds=50, verbose_eval=10)"
   ]
  },
  {
   "cell_type": "code",
   "execution_count": 49,
   "metadata": {
    "collapsed": false
   },
   "outputs": [],
   "source": [
    "y_test = bst.predict(d_test)\n",
    "sub = pd.DataFrame()\n",
    "sub['ID'] = x_test_id['ID']\n",
    "sub['y'] = y_test\n",
    "sub.to_csv('../output/simple5.csv', index=False)"
   ]
  }
 ],
 "metadata": {
  "kernelspec": {
   "display_name": "Python [default]",
   "language": "python",
   "name": "python2"
  },
  "language_info": {
   "codemirror_mode": {
    "name": "ipython",
    "version": 2
   },
   "file_extension": ".py",
   "mimetype": "text/x-python",
   "name": "python",
   "nbconvert_exporter": "python",
   "pygments_lexer": "ipython2",
   "version": "2.7.12"
  }
 },
 "nbformat": 4,
 "nbformat_minor": 2
}
