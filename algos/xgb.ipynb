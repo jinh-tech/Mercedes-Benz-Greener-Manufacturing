{
 "cells": [
  {
   "cell_type": "code",
   "execution_count": 25,
   "metadata": {
    "collapsed": true
   },
   "outputs": [],
   "source": [
    "import xgboost as xgb\n",
    "import pandas as pd\n",
    "from sklearn.decomposition import PCA, FastICA\n",
    "from sklearn.metrics import r2_score"
   ]
  },
  {
   "cell_type": "code",
   "execution_count": 24,
   "metadata": {
    "collapsed": true
   },
   "outputs": [],
   "source": [
    "def xgb_r2_score(preds, dtrain):\n",
    "    labels = dtrain.get_label()\n",
    "    return 'r2', r2_score(labels, preds)"
   ]
  },
  {
   "cell_type": "code",
   "execution_count": 2,
   "metadata": {
    "collapsed": false
   },
   "outputs": [],
   "source": [
    "x_train = pd.read_csv('../processed_data/pre_x_train.csv')\n",
    "x_test = pd.read_csv('../processed_data/pre_x_test.csv')\n",
    "y_train = pd.read_csv('../processed_data/y_train.csv')\n",
    "x_test_id = pd.read_csv('../raw_data/test.csv',usecols=['ID'])"
   ]
  },
  {
   "cell_type": "code",
   "execution_count": 29,
   "metadata": {
    "collapsed": false
   },
   "outputs": [],
   "source": [
    "params = {}\n",
    "params['objective'] = 'reg:linear'\n",
    "#params['eval_metric'] = 'rmse'\n",
    "params['eta'] = 0.02\n",
    "params['max_depth'] = 4\n",
    "params['base_score'] = y_train['y'].mean()\n",
    "d_train = xgb.DMatrix(x_train,y_train)\n",
    "watchlist = [(d_train, 'train')]\n",
    "\n",
    "d_test = xgb.DMatrix(x_test)"
   ]
  },
  {
   "cell_type": "code",
   "execution_count": 30,
   "metadata": {
    "collapsed": false
   },
   "outputs": [
    {
     "name": "stdout",
     "output_type": "stream",
     "text": [
      "[0]\ttrain-rmse:12.5315\ttrain-r2:0.022966\n",
      "Multiple eval metrics have been passed: 'train-r2' will be used for early stopping.\n",
      "\n",
      "Will train until train-r2 hasn't improved in 50 rounds.\n",
      "[10]\ttrain-rmse:11.2796\ttrain-r2:0.208414\n",
      "[20]\ttrain-rmse:10.3554\ttrain-r2:0.332828\n",
      "[30]\ttrain-rmse:9.68456\ttrain-r2:0.416465\n",
      "[40]\ttrain-rmse:9.20302\ttrain-r2:0.473052\n",
      "[50]\ttrain-rmse:8.86115\ttrain-r2:0.511474\n",
      "[60]\ttrain-rmse:8.61663\ttrain-r2:0.538063\n",
      "[70]\ttrain-rmse:8.4438\ttrain-r2:0.556409\n",
      "[80]\ttrain-rmse:8.31926\ttrain-r2:0.569398\n",
      "[90]\ttrain-rmse:8.23011\ttrain-r2:0.578577\n",
      "[100]\ttrain-rmse:8.16406\ttrain-r2:0.585313\n",
      "[110]\ttrain-rmse:8.10997\ttrain-r2:0.59079\n",
      "[120]\ttrain-rmse:8.06052\ttrain-r2:0.595765\n",
      "[130]\ttrain-rmse:8.02373\ttrain-r2:0.599447\n",
      "[140]\ttrain-rmse:7.99262\ttrain-r2:0.602548\n",
      "[149]\ttrain-rmse:7.96494\ttrain-r2:0.605295\n"
     ]
    }
   ],
   "source": [
    "bst = xgb.train(params, d_train, 150, watchlist, early_stopping_rounds=50, feval=xgb_r2_score, maximize=True, verbose_eval=10)\n",
    "#bst = xgb.train(params, d_train ,200, watchlist,early_stopping_rounds=50, verbose_eval=10)"
   ]
  },
  {
   "cell_type": "code",
   "execution_count": 31,
   "metadata": {
    "collapsed": false
   },
   "outputs": [],
   "source": [
    "y_test = bst.predict(d_test)\n",
    "sub = pd.DataFrame()\n",
    "sub['ID'] = x_test_id['ID']\n",
    "sub['y'] = y_test\n",
    "sub.to_csv('../output/simple11.csv', index=False)"
   ]
  }
 ],
 "metadata": {
  "anaconda-cloud": {},
  "kernelspec": {
   "display_name": "Python [default]",
   "language": "python",
   "name": "python2"
  },
  "language_info": {
   "codemirror_mode": {
    "name": "ipython",
    "version": 2
   },
   "file_extension": ".py",
   "mimetype": "text/x-python",
   "name": "python",
   "nbconvert_exporter": "python",
   "pygments_lexer": "ipython2",
   "version": "2.7.12"
  }
 },
 "nbformat": 4,
 "nbformat_minor": 2
}
